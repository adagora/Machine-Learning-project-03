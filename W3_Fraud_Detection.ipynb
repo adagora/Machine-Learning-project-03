{
  "nbformat": 4,
  "nbformat_minor": 0,
  "metadata": {
    "colab": {
      "name": " W3.Fraud_Detection.ipynb",
      "version": "0.3.2",
      "provenance": [],
      "collapsed_sections": [],
      "include_colab_link": true
    },
    "kernelspec": {
      "name": "python3",
      "display_name": "Python 3"
    }
  },
  "cells": [
    {
      "cell_type": "markdown",
      "metadata": {
        "id": "view-in-github",
        "colab_type": "text"
      },
      "source": [
        "<a href=\"https://colab.research.google.com/github/adagora/project-3/blob/master/W3_Fraud_Detection.ipynb\" target=\"_parent\"><img src=\"https://colab.research.google.com/assets/colab-badge.svg\" alt=\"Open In Colab\"/></a>"
      ]
    },
    {
      "cell_type": "code",
      "metadata": {
        "id": "MapW0gKQ3B8u",
        "colab_type": "code",
        "colab": {}
      },
      "source": [
        "import pandas as pd\n",
        "import numpy as np\n",
        "from sklearn.model_selection import StratifiedShuffleSplit\n",
        "from sklearn.linear_model import LogisticRegression\n",
        "from sklearn.metrics import classification_report\n",
        "import matplotlib.pyplot as plt\n",
        "from sklearn.preprocessing import scale\n",
        "import random\n",
        "import seaborn as sns"
      ],
      "execution_count": 0,
      "outputs": []
    },
    {
      "cell_type": "code",
      "metadata": {
        "id": "XRPzdHaD9t7e",
        "colab_type": "code",
        "outputId": "c78c0ee6-43cf-40e6-9425-4ef51e72d7e7",
        "colab": {
          "base_uri": "https://localhost:8080/",
          "height": 202
        }
      },
      "source": [
        "df = pd.read_csv('creditcard.csv')\n",
        "df.head()\n",
        "print(df.describe())\n",
        "\n"
      ],
      "execution_count": 109,
      "outputs": [
        {
          "output_type": "stream",
          "text": [
            "                Time            V1  ...         Amount          Class\n",
            "count  284807.000000  2.848070e+05  ...  284807.000000  284807.000000\n",
            "mean    94813.859575  3.919560e-15  ...      88.349619       0.001727\n",
            "std     47488.145955  1.958696e+00  ...     250.120109       0.041527\n",
            "min         0.000000 -5.640751e+01  ...       0.000000       0.000000\n",
            "25%     54201.500000 -9.203734e-01  ...       5.600000       0.000000\n",
            "50%     84692.000000  1.810880e-02  ...      22.000000       0.000000\n",
            "75%    139320.500000  1.315642e+00  ...      77.165000       0.000000\n",
            "max    172792.000000  2.454930e+00  ...   25691.160000       1.000000\n",
            "\n",
            "[8 rows x 31 columns]\n"
          ],
          "name": "stdout"
        }
      ]
    },
    {
      "cell_type": "code",
      "metadata": {
        "id": "r2peSAx5NYA8",
        "colab_type": "code",
        "colab": {
          "base_uri": "https://localhost:8080/",
          "height": 308
        },
        "outputId": "eeea002b-392f-4058-fc88-acc6cd1fb8b3"
      },
      "source": [
        "%matplotlib inline\n",
        "sns.countplot(x='Class', data=df)"
      ],
      "execution_count": 110,
      "outputs": [
        {
          "output_type": "execute_result",
          "data": {
            "text/plain": [
              "<matplotlib.axes._subplots.AxesSubplot at 0x7f852f163278>"
            ]
          },
          "metadata": {
            "tags": []
          },
          "execution_count": 110
        },
        {
          "output_type": "display_data",
          "data": {
            "image/png": "[encoded data removed]",
            "text/plain": [
              "<Figure size 432x288 with 1 Axes>"
            ]
          },
          "metadata": {
            "tags": []
          }
        }
      ]
    },
    {
      "cell_type": "code",
      "metadata": {
        "id": "pYvuyLLxrpwt",
        "colab_type": "code",
        "outputId": "21315740-c02d-402a-899b-d9259c426823",
        "colab": {
          "base_uri": "https://localhost:8080/",
          "height": 52
        }
      },
      "source": [
        "fraud = train_transaction.loc[df['Class'] == 1]\n",
        "non_fraud = df.loc[df['Class'] == 0]\n",
        "print(len(fraud))\n",
        "print(len(non_fraud))"
      ],
      "execution_count": 0,
      "outputs": [
        {
          "output_type": "stream",
          "text": [
            "492\n",
            "284315\n"
          ],
          "name": "stdout"
        }
      ]
    },
    {
      "cell_type": "code",
      "metadata": {
        "id": "4PyFacKUsjAV",
        "colab_type": "code",
        "outputId": "da2f56c6-7e19-4662-dc54-a390ede2b7e9",
        "colab": {
          "base_uri": "https://localhost:8080/",
          "height": 283
        }
      },
      "source": [
        "ax = fraud.plot.scatter(x='Amount', y='Class', color='Orange', label='Fraud')\n",
        "non_fraud.plot.scatter(x='Amount', y='Class', color='Blue', label='Normal', ax=ax)\n",
        "plt.show()"
      ],
      "execution_count": 0,
      "outputs": [
        {
          "output_type": "display_data",
          "data": {
            "image/png": "[encoded data removed]",
            "text/plain": [
              "<Figure size 432x288 with 1 Axes>"
            ]
          },
          "metadata": {
            "tags": []
          }
        }
      ]
    },
    {
      "cell_type": "code",
      "metadata": {
        "id": "-K1hBi_391yI",
        "colab_type": "code",
        "colab": {}
      },
      "source": [
        "# chose column\n",
        "features = ['Amount'] + ['V%d' % number for number in range(1, 29)]\n",
        "\n",
        "# ours target, we want to predict\n",
        "target = 'Class'\n",
        "\n",
        "#create\n",
        "X = df[features]\n",
        "y = df[target]"
      ],
      "execution_count": 0,
      "outputs": []
    },
    {
      "cell_type": "code",
      "metadata": {
        "id": "2duQ21W-AUFs",
        "colab_type": "code",
        "colab": {}
      },
      "source": [
        "def normalize(X):\n",
        "    \"\"\"\n",
        "    Make the distribution of the values of each variable similar by subtracting the mean and by dividing by the standard deviation.\n",
        "    \"\"\"\n",
        "    for feature in X.columns:\n",
        "        X[feature] -= X[feature].mean()\n",
        "        X[feature] /= X[feature].std()\n",
        "    return X\n",
        "    "
      ],
      "execution_count": 0,
      "outputs": []
    },
    {
      "cell_type": "code",
      "metadata": {
        "id": "DrmCSiRSOCb2",
        "colab_type": "code",
        "outputId": "64426d71-327e-4d5d-db7a-c4667ab41503",
        "colab": {
          "base_uri": "https://localhost:8080/",
          "height": 423
        }
      },
      "source": [
        "# Define the model\n",
        "\n",
        "model = LogisticRegression(C=1e5)\n",
        "\n",
        "# Define the splitter for spliting data in train set and a test set\n",
        "splitter = StratifiedShuffleSplit(n_splits=1, test_size=0.5, random_state=0)\n",
        "\n",
        "# Loop through the splits (only one)\n",
        "for train_indices, test_indices in splitter.split(X, y):\n",
        "  #Select the train and test data\n",
        "  X_train, y_train = X.iloc[train_indices], y.iloc[train_indices]\n",
        "  X_test, y_test =X.iloc[test_indices], y.iloc[test_indices]\n",
        "  \n",
        "  # Normalize the data\n",
        "  X_train = normalize(X_train)\n",
        "  X_test = normalize(X_test)\n",
        "  \n",
        "  # Fit & Predict\n",
        "  model.fit(X_train, y_train)\n",
        "  y_pred = model.predict(X_test)\n",
        "  \n",
        "  # Result\n",
        "  print(classification_report(y_test, y_pred))\n"
      ],
      "execution_count": 0,
      "outputs": [
        {
          "output_type": "stream",
          "text": [
            "/usr/local/lib/python3.6/dist-packages/ipykernel_launcher.py:6: SettingWithCopyWarning: \n",
            "A value is trying to be set on a copy of a slice from a DataFrame.\n",
            "Try using .loc[row_indexer,col_indexer] = value instead\n",
            "\n",
            "See the caveats in the documentation: http://pandas.pydata.org/pandas-docs/stable/indexing.html#indexing-view-versus-copy\n",
            "  \n",
            "/usr/local/lib/python3.6/dist-packages/ipykernel_launcher.py:7: SettingWithCopyWarning: \n",
            "A value is trying to be set on a copy of a slice from a DataFrame.\n",
            "Try using .loc[row_indexer,col_indexer] = value instead\n",
            "\n",
            "See the caveats in the documentation: http://pandas.pydata.org/pandas-docs/stable/indexing.html#indexing-view-versus-copy\n",
            "  import sys\n",
            "/usr/local/lib/python3.6/dist-packages/sklearn/linear_model/logistic.py:432: FutureWarning: Default solver will be changed to 'lbfgs' in 0.22. Specify a solver to silence this warning.\n",
            "  FutureWarning)\n"
          ],
          "name": "stderr"
        },
        {
          "output_type": "stream",
          "text": [
            "              precision    recall  f1-score   support\n",
            "\n",
            "           0       1.00      1.00      1.00    142158\n",
            "           1       0.88      0.61      0.72       246\n",
            "\n",
            "    accuracy                           1.00    142404\n",
            "   macro avg       0.94      0.80      0.86    142404\n",
            "weighted avg       1.00      1.00      1.00    142404\n",
            "\n"
          ],
          "name": "stdout"
        }
      ]
    },
    {
      "cell_type": "code",
      "metadata": {
        "id": "VvAIsOiNGTbI",
        "colab_type": "code",
        "outputId": "9aa7b729-0a80-4b53-9a57-79fd62f18894",
        "colab": {
          "base_uri": "https://localhost:8080/",
          "height": 50
        }
      },
      "source": [
        "from sklearn.metrics import recall_score,accuracy_score\n",
        "print(recall_score(y_test,y_pred,average=None))\n",
        "print(accuracy_score(y_test,y_pred))"
      ],
      "execution_count": 113,
      "outputs": [
        {
          "output_type": "stream",
          "text": [
            "[0.99985931 0.6097561 ]\n",
            "0.9991854161399961\n"
          ],
          "name": "stdout"
        }
      ]
    },
    {
      "cell_type": "code",
      "metadata": {
        "id": "xqp56s1pOQkF",
        "colab_type": "code",
        "colab": {}
      },
      "source": [
        "# algorithm is performing extremely well\n",
        "# So our model is not doing a good job of recognising frauds, only .61% for 1. It means fraud"
      ],
      "execution_count": 0,
      "outputs": []
    },
    {
      "cell_type": "code",
      "metadata": {
        "id": "YfxLlhsSOxqB",
        "colab_type": "code",
        "colab": {}
      },
      "source": [
        "\n",
        "# Undersample the data. To improve the recall, let's implement undersampling. Here the code is trying to reduce the number of non fraudulent transactions equivalent to fraudulent ones.\n",
        "no_frauds = len(df[df['Class'] == 1])\n",
        "non_fraud_indices = df[df.Class == 0].index\n",
        "random_indices = np.random.choice(non_fraud_indices,no_frauds, replace=False)\n",
        "fraud_indices = df[df.Class == 1].index\n",
        "under_sample_indices = np.concatenate([fraud_indices,random_indices])\n",
        "under_sample = df.loc[under_sample_indices]"
      ],
      "execution_count": 0,
      "outputs": []
    },
    {
      "cell_type": "code",
      "metadata": {
        "id": "1PVzoZDmO1Mo",
        "colab_type": "code",
        "colab": {
          "base_uri": "https://localhost:8080/",
          "height": 308
        },
        "outputId": "9b1dc3ae-5f2e-4e94-9a79-ce752703f093"
      },
      "source": [
        "%matplotlib inline\n",
        "sns.countplot(x='Class', data=under_sample)"
      ],
      "execution_count": 116,
      "outputs": [
        {
          "output_type": "execute_result",
          "data": {
            "text/plain": [
              "<matplotlib.axes._subplots.AxesSubplot at 0x7f852ae3e9e8>"
            ]
          },
          "metadata": {
            "tags": []
          },
          "execution_count": 116
        },
        {
          "output_type": "display_data",
          "data": {
            "image/png": "[encoded data removed]",
            "text/plain": [
              "<Figure size 432x288 with 1 Axes>"
            ]
          },
          "metadata": {
            "tags": []
          }
        }
      ]
    },
    {
      "cell_type": "code",
      "metadata": {
        "id": "0CCRZDY4PZCM",
        "colab_type": "code",
        "colab": {}
      },
      "source": [
        "from sklearn.model_selection import train_test_split\n",
        "X_under = under_sample.loc[:,under_sample.columns != 'Class']\n",
        "y_under = under_sample.loc[:,under_sample.columns == 'Class']\n",
        "X_under_train, X_under_test, y_under_train, y_under_test = train_test_split(X_under,y_under,test_size = 0.3, random_state = 0)"
      ],
      "execution_count": 0,
      "outputs": []
    },
    {
      "cell_type": "code",
      "metadata": {
        "id": "GtOqsjnYQHNm",
        "colab_type": "code",
        "colab": {
          "base_uri": "https://localhost:8080/",
          "height": 138
        },
        "outputId": "8627bfce-8b1a-438f-8fb1-599f4cb0078f"
      },
      "source": [
        "lr_under = LogisticRegression()\n",
        "lr_under.fit(X_under_train,y_under_train)\n",
        "y_under_pred = lr_under.predict(X_under_test)\n",
        "print(recall_score(y_under_test,y_under_pred))\n",
        "print(accuracy_score(y_under_test,y_under_pred))"
      ],
      "execution_count": 122,
      "outputs": [
        {
          "output_type": "stream",
          "text": [
            "0.8979591836734694\n",
            "0.9459459459459459\n"
          ],
          "name": "stdout"
        },
        {
          "output_type": "stream",
          "text": [
            "/usr/local/lib/python3.6/dist-packages/sklearn/linear_model/logistic.py:432: FutureWarning: Default solver will be changed to 'lbfgs' in 0.22. Specify a solver to silence this warning.\n",
            "  FutureWarning)\n",
            "/usr/local/lib/python3.6/dist-packages/sklearn/utils/validation.py:724: DataConversionWarning: A column-vector y was passed when a 1d array was expected. Please change the shape of y to (n_samples, ), for example using ravel().\n",
            "  y = column_or_1d(y, warn=True)\n"
          ],
          "name": "stderr"
        }
      ]
    },
    {
      "cell_type": "code",
      "metadata": {
        "id": "eHrTVgRoQUo0",
        "colab_type": "code",
        "colab": {
          "base_uri": "https://localhost:8080/",
          "height": 104
        },
        "outputId": "7dae8d3a-6cda-4d0f-a4d3-37d138b7c8f6"
      },
      "source": [
        "lr_balanced = LogisticRegression(class_weight = 'balanced')\n",
        "lr_balanced.fit(X_train,y_train)\n",
        "y_balanced_pred = lr_balanced.predict(X_test)\n",
        "print(recall_score(y_test,y_balanced_pred))\n",
        "print(accuracy_score(y_test,y_balanced_pred))"
      ],
      "execution_count": 125,
      "outputs": [
        {
          "output_type": "stream",
          "text": [
            "/usr/local/lib/python3.6/dist-packages/sklearn/linear_model/logistic.py:432: FutureWarning: Default solver will be changed to 'lbfgs' in 0.22. Specify a solver to silence this warning.\n",
            "  FutureWarning)\n"
          ],
          "name": "stderr"
        },
        {
          "output_type": "stream",
          "text": [
            "0.9065040650406504\n",
            "0.9797337153450746\n"
          ],
          "name": "stdout"
        }
      ]
    },
    {
      "cell_type": "code",
      "metadata": {
        "id": "yNTewLipU6X3",
        "colab_type": "code",
        "colab": {}
      },
      "source": [
        "#BALANCED#\n",
        "# accuracy really good 98%\n",
        "# recall score really good 90%"
      ],
      "execution_count": 0,
      "outputs": []
    },
    {
      "cell_type": "code",
      "metadata": {
        "id": "YNSaSaQiREUa",
        "colab_type": "code",
        "colab": {
          "base_uri": "https://localhost:8080/",
          "height": 50
        },
        "outputId": "b89c612e-26bf-4c22-bc4d-323e624b7dcb"
      },
      "source": [
        "from sklearn.metrics import confusion_matrix\n",
        "\n",
        "confusion_matrix_value = confusion_matrix(y_test,y_balanced_pred)\n",
        "sns.set(font_scale=1.4)\n",
        "confusion_matrix_value\n",
        "#sns.heatmap(confusion_matrix_value, annot=True)"
      ],
      "execution_count": 127,
      "outputs": [
        {
          "output_type": "execute_result",
          "data": {
            "text/plain": [
              "array([[139295,   2863],\n",
              "       [    23,    223]])"
            ]
          },
          "metadata": {
            "tags": []
          },
          "execution_count": 127
        }
      ]
    },
    {
      "cell_type": "code",
      "metadata": {
        "id": "9s7bMQLTR55A",
        "colab_type": "code",
        "colab": {
          "base_uri": "https://localhost:8080/",
          "height": 166
        },
        "outputId": "d0a515b1-9178-428f-8507-b55ed789e50e"
      },
      "source": [
        "import pandas as pd\n",
        "\n",
        "df_confusion = pd.crosstab(y_test, y_balanced_pred,  rownames=['Actual'], colnames=['Predicted'], margins=True)\n",
        "df_confusion"
      ],
      "execution_count": 149,
      "outputs": [
        {
          "output_type": "execute_result",
          "data": {
            "text/html": [
              "<div>\n",
              "<style scoped>\n",
              "    .dataframe tbody tr th:only-of-type {\n",
              "        vertical-align: middle;\n",
              "    }\n",
              "\n",
              "    .dataframe tbody tr th {\n",
              "        vertical-align: top;\n",
              "    }\n",
              "\n",
              "    .dataframe thead th {\n",
              "        text-align: right;\n",
              "    }\n",
              "</style>\n",
              "<table border=\"1\" class=\"dataframe\">\n",
              "  <thead>\n",
              "    <tr style=\"text-align: right;\">\n",
              "      <th>Predicted</th>\n",
              "      <th>0</th>\n",
              "      <th>1</th>\n",
              "      <th>All</th>\n",
              "    </tr>\n",
              "    <tr>\n",
              "      <th>Actual</th>\n",
              "      <th></th>\n",
              "      <th></th>\n",
              "      <th></th>\n",
              "    </tr>\n",
              "  </thead>\n",
              "  <tbody>\n",
              "    <tr>\n",
              "      <th>0</th>\n",
              "      <td>139295</td>\n",
              "      <td>2863</td>\n",
              "      <td>142158</td>\n",
              "    </tr>\n",
              "    <tr>\n",
              "      <th>1</th>\n",
              "      <td>23</td>\n",
              "      <td>223</td>\n",
              "      <td>246</td>\n",
              "    </tr>\n",
              "    <tr>\n",
              "      <th>All</th>\n",
              "      <td>139318</td>\n",
              "      <td>3086</td>\n",
              "      <td>142404</td>\n",
              "    </tr>\n",
              "  </tbody>\n",
              "</table>\n",
              "</div>"
            ],
            "text/plain": [
              "Predicted       0     1     All\n",
              "Actual                         \n",
              "0          139295  2863  142158\n",
              "1              23   223     246\n",
              "All        139318  3086  142404"
            ]
          },
          "metadata": {
            "tags": []
          },
          "execution_count": 149
        }
      ]
    },
    {
      "cell_type": "code",
      "metadata": {
        "id": "aoChaxQYSJEV",
        "colab_type": "code",
        "colab": {}
      },
      "source": [
        ""
      ],
      "execution_count": 0,
      "outputs": []
    }
  ]
}